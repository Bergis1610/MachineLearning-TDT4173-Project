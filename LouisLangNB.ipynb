{
 "cells": [
  {
   "cell_type": "markdown",
   "metadata": {},
   "source": [
    "# Louis Long Notebook"
   ]
  },
  {
   "cell_type": "markdown",
   "metadata": {},
   "source": [
    "### Emil studid & Louis studid, teamname "
   ]
  },
  {
   "cell_type": "markdown",
   "metadata": {},
   "source": [
    "#### Table of contents:\n",
    "1. Exploratory data analysis\n",
    "2. Models/Predictors\n",
    "    - Model 1\n",
    "    - Model 2\n",
    "    - model ...\n",
    "3. Feature Engineering \n",
    "    - Lime\n",
    "    - feature importance\n",
    "    - PDP\n",
    "4. Model Interpretations\n",
    "5. Improved models (possibly)\n",
    "\n"
   ]
  },
  {
   "cell_type": "markdown",
   "metadata": {},
   "source": [
    "# ___________ _0. Setup_ ___________"
   ]
  },
  {
   "cell_type": "code",
   "execution_count": 241,
   "metadata": {},
   "outputs": [],
   "source": [
    "import numpy as np\n",
    "import matplotlib.pyplot as plt\n",
    "import pandas as pd\n",
    "import seaborn as sns\n",
    "import sklearn.metrics as metrics\n",
    "import sklearn.ensemble as ensemble\n",
    "import optuna\n",
    "import lightgbm as lgb\n",
    "from lightgbm import LGBMRegressor\n",
    "from sklearn.ensemble import RandomForestRegressor\n",
    "from sklearn.model_selection import train_test_split, StratifiedKFold, KFold, cross_val_score\n",
    "from sklearn.metrics import log_loss, mean_squared_error, mean_squared_log_error\n",
    "from verstack import LGBMTuner, MeanTargetEncoder, OneHotEncoder\n",
    "\n",
    "\n",
    "#from pandas_profiling import ProfileReport"
   ]
  },
  {
   "cell_type": "code",
   "execution_count": 4,
   "metadata": {},
   "outputs": [],
   "source": [
    "def writeResultToFile(test_data, pred_data, nameOfFile='namelessSubmission'):\n",
    "    submission = pd.DataFrame()\n",
    "    submission['id'] = test_data['store_id']\n",
    "    submission['predicted'] = np.asarray(pred_data)\n",
    "    submission.to_csv('submissionFiles/'+ nameOfFile+'.csv', index=False)\n",
    "    "
   ]
  },
  {
   "cell_type": "code",
   "execution_count": 5,
   "metadata": {},
   "outputs": [],
   "source": [
    "def rmsle(y_true, y_pred):\n",
    "    return metrics.mean_squared_log_error(y_true, y_pred)**0.5"
   ]
  },
  {
   "cell_type": "markdown",
   "metadata": {},
   "source": [
    "# ___________ _1. Exploratory Data Analysis_ ___________\n"
   ]
  },
  {
   "cell_type": "markdown",
   "metadata": {},
   "source": [
    "### EDA Notes\n",
    "- [ ] Search domain knowledge\n",
    "- [ ] Check if the data is intuitive\n",
    "- [ ] Understand how the data was generated\n",
    "- [ ] Explore individual features\n",
    "    - [x] Agencies\n",
    "    - [x] stores with 0 revenue\n",
    "    - [x] food and drink stores and grovery stores\n",
    "- [ ] Explore pairs and groups\n",
    "    - [x] Store type vs revenue\n",
    "- [ ] Clean up features\n",
    "    - [x] remove 2016\n",
    "    - [x] remove outliers\n",
    "    - [x] remove 0 revenue rows\n"
   ]
  },
  {
   "cell_type": "code",
   "execution_count": null,
   "metadata": {},
   "outputs": [],
   "source": [
    "stores_train = pd.read_csv('data/stores_train.csv')\n"
   ]
  },
  {
   "cell_type": "code",
   "execution_count": null,
   "metadata": {},
   "outputs": [],
   "source": [
    "stores_train.head()"
   ]
  },
  {
   "cell_type": "code",
   "execution_count": null,
   "metadata": {},
   "outputs": [],
   "source": [
    "stores_train.info()"
   ]
  },
  {
   "cell_type": "code",
   "execution_count": null,
   "metadata": {},
   "outputs": [],
   "source": [
    "stores_train.describe()"
   ]
  },
  {
   "cell_type": "code",
   "execution_count": null,
   "metadata": {},
   "outputs": [],
   "source": [
    "#report = ProfileReport(stores_train)\n",
    "#report"
   ]
  },
  {
   "cell_type": "markdown",
   "metadata": {},
   "source": [
    "Explore revenue based on store type"
   ]
  },
  {
   "cell_type": "code",
   "execution_count": null,
   "metadata": {},
   "outputs": [],
   "source": [
    "plaace_hierarchy = pd.read_csv('data/plaace_hierarchy.csv')\n",
    "stores_with_hierarchy = stores_train.merge(plaace_hierarchy, how='left', on='plaace_hierarchy_id')"
   ]
  },
  {
   "cell_type": "code",
   "execution_count": null,
   "metadata": {},
   "outputs": [],
   "source": [
    "plt.figure(figsize=(20,6))\n",
    "plt.gcf().set_dpi(600)\n",
    "plt.xticks(rotation=90)\n",
    "sns.violinplot(x='lv2_desc',y='revenue',data=stores_with_hierarchy).set_title(\"Revenue on store type\")\n",
    "plt.show()"
   ]
  },
  {
   "cell_type": "markdown",
   "metadata": {},
   "source": [
    "further exploration of agencie store type"
   ]
  },
  {
   "cell_type": "code",
   "execution_count": null,
   "metadata": {},
   "outputs": [],
   "source": [
    "stores_with_hierarchy[stores_with_hierarchy[\"lv2_desc\"]==\"Agencies\"]"
   ]
  },
  {
   "cell_type": "markdown",
   "metadata": {},
   "source": [
    "Further exploration of \"Food and drink\" type stores\n"
   ]
  },
  {
   "cell_type": "code",
   "execution_count": null,
   "metadata": {},
   "outputs": [],
   "source": [
    "plt.figure(figsize=(10,5))\n",
    "sns.violinplot(x='lv3_desc',y='revenue',data=stores_with_hierarchy[stores_with_hierarchy[\"lv2_desc\"]==\"Food and drinks\"]).set_title(\"Food and drinks violin plot\")\n",
    "plt.xticks(rotation=90)\n",
    "plt.show()"
   ]
  },
  {
   "cell_type": "markdown",
   "metadata": {},
   "source": [
    "Explore retailers with 0 revenue"
   ]
  },
  {
   "cell_type": "code",
   "execution_count": null,
   "metadata": {},
   "outputs": [],
   "source": [
    "stores_with_hierarchy[stores_with_hierarchy[\"revenue\"]==0.0].describe()"
   ]
  },
  {
   "cell_type": "markdown",
   "metadata": {},
   "source": [
    "All retailers and their cooresponding revenue, the plot is to visually check for outliers, clearly there are som outliers as can be seen in the plot below"
   ]
  },
  {
   "cell_type": "code",
   "execution_count": null,
   "metadata": {},
   "outputs": [],
   "source": [
    "plt.plot(stores_train['store_id'], stores_train['revenue'],'o')\n",
    "plt.figure(figsize=(30,5))\n",
    "plt.show()"
   ]
  },
  {
   "cell_type": "code",
   "execution_count": null,
   "metadata": {},
   "outputs": [],
   "source": []
  },
  {
   "cell_type": "markdown",
   "metadata": {},
   "source": [
    "### Cleaning"
   ]
  },
  {
   "cell_type": "markdown",
   "metadata": {},
   "source": [
    "#### Remove columns function - example: year is a const value and has no effect on the end result"
   ]
  },
  {
   "cell_type": "code",
   "execution_count": 6,
   "metadata": {},
   "outputs": [],
   "source": [
    "def remove_columns(dataSet, columns):\n",
    "    for column in columns:\n",
    "        dataSet.drop(column, axis=1, inplace=True)\n"
   ]
  },
  {
   "cell_type": "code",
   "execution_count": null,
   "metadata": {},
   "outputs": [],
   "source": [
    "remove_columns(stores_train,['year'])\n",
    "stores_train.head()"
   ]
  },
  {
   "cell_type": "markdown",
   "metadata": {},
   "source": [
    "#### Remove retailers with 0 revenue function - might be handy"
   ]
  },
  {
   "cell_type": "code",
   "execution_count": 7,
   "metadata": {},
   "outputs": [],
   "source": [
    "def remove_retailers_with_0_revenue(dataSet):\n",
    "    dataSet.drop(dataSet[dataSet['revenue']==0.0].index, inplace=True)"
   ]
  },
  {
   "cell_type": "code",
   "execution_count": null,
   "metadata": {},
   "outputs": [],
   "source": [
    "#remove_retailers_with_0_revenue(stores_train)"
   ]
  },
  {
   "cell_type": "markdown",
   "metadata": {},
   "source": [
    "#### Removing outliers\n",
    "\n",
    "Plotting all retailers based on storetype before and after trimming to confirm that outliers actually has been removed"
   ]
  },
  {
   "cell_type": "code",
   "execution_count": null,
   "metadata": {},
   "outputs": [],
   "source": [
    "for store_type in stores_with_hierarchy['lv2_desc'].unique():\n",
    "    plt.figure(figsize=(12,2))\n",
    "    sns.violinplot(x='lv3_desc',y='revenue',data=stores_with_hierarchy[stores_with_hierarchy[\"lv2_desc\"]==store_type]).set_title(f\"{store_type} violin plot\")\n",
    "    plt.show()"
   ]
  },
  {
   "cell_type": "markdown",
   "metadata": {},
   "source": [
    "Remove-outliers-function for the relationship between store type and revenue"
   ]
  },
  {
   "cell_type": "code",
   "execution_count": 11,
   "metadata": {},
   "outputs": [],
   "source": [
    "def quantile_storeType_vs_revenue(stores, lower, upper):\n",
    "    for store_type in stores['plaace_hierarchy_id'].unique():\n",
    "        data = stores[stores['plaace_hierarchy_id']==store_type]\n",
    "        upper_treshold = data['revenue'].quantile(upper)\n",
    "        lower_treshold = data['revenue'].quantile(lower)\n",
    "        stores.drop(stores[(stores['plaace_hierarchy_id']==store_type) & (stores['revenue']>upper_treshold)].index, inplace=True)\n",
    "        stores.drop(stores[(stores['plaace_hierarchy_id']==store_type) & (stores['revenue']<lower_treshold)].index, inplace=True)\n",
    "    "
   ]
  },
  {
   "cell_type": "code",
   "execution_count": null,
   "metadata": {},
   "outputs": [],
   "source": [
    "quantile_storeType_vs_revenue(stores_train)"
   ]
  },
  {
   "cell_type": "markdown",
   "metadata": {},
   "source": [
    "Plot after removing outliers\n",
    "\n",
    "you can see in the plot below that the outliers has been removed\n"
   ]
  },
  {
   "cell_type": "code",
   "execution_count": null,
   "metadata": {},
   "outputs": [],
   "source": [
    "plaace_hierarchy = pd.read_csv('data/plaace_hierarchy.csv')\n",
    "stores_with_hierarchy = stores_train.merge(plaace_hierarchy, how='left', on='plaace_hierarchy_id')\n",
    "for store_type in stores_with_hierarchy['lv2_desc'].unique():\n",
    "    plt.figure(figsize=(12,2))\n",
    "    sns.violinplot(x='lv3_desc',y='revenue',data=stores_with_hierarchy[stores_with_hierarchy[\"lv2_desc\"]==store_type]).set_title(f\"{store_type} violin plot\")\n",
    "    plt.show()"
   ]
  },
  {
   "cell_type": "markdown",
   "metadata": {},
   "source": [
    "#### comparing test set to training set"
   ]
  },
  {
   "cell_type": "code",
   "execution_count": null,
   "metadata": {},
   "outputs": [],
   "source": [
    "stores_train = pd.read_csv('data/stores_train.csv')\n",
    "stores_test = pd.read_csv('data/stores_test.csv')"
   ]
  },
  {
   "cell_type": "markdown",
   "metadata": {},
   "source": [
    "comparing coordinates"
   ]
  },
  {
   "cell_type": "code",
   "execution_count": null,
   "metadata": {},
   "outputs": [],
   "source": [
    "plt.figure(figsize=(16,9), dpi=600)\n",
    "plt.scatter(stores_train['lon'],stores_train['lat'], label=\"traing\",color='red')\n",
    "plt.scatter(stores_test['lon'], stores_test['lat'], alpha=0.2, label=\"test\", color=\"blue\")\n",
    "plt.legend(fontsize=10,ncol=2)\n",
    "plt.xlabel(\"Latitude\")\n",
    "plt.ylabel(\"Longitude\")\n",
    "plt.grid()\n",
    "plt.show()\n",
    "\n"
   ]
  },
  {
   "cell_type": "code",
   "execution_count": null,
   "metadata": {},
   "outputs": [],
   "source": [
    "fig = plt.figure()\n",
    "ax1 = fig.add_subplot(projection='3d')\n",
    "ax1.scatter(stores_train['lat'],stores_train['lon'],stores_train['revenue'])\n",
    "ax1.set_xlabel('Lat')\n",
    "ax1.set_ylabel('Lon')\n",
    "ax1.set_zlabel('Revenue')\n",
    "plt.show()\n"
   ]
  },
  {
   "cell_type": "markdown",
   "metadata": {},
   "source": [
    "#### Examine whether a store occurs in multiple datasets "
   ]
  },
  {
   "cell_type": "code",
   "execution_count": 190,
   "metadata": {},
   "outputs": [
    {
     "data": {
      "text/html": [
       "<div>\n",
       "<style scoped>\n",
       "    .dataframe tbody tr th:only-of-type {\n",
       "        vertical-align: middle;\n",
       "    }\n",
       "\n",
       "    .dataframe tbody tr th {\n",
       "        vertical-align: top;\n",
       "    }\n",
       "\n",
       "    .dataframe thead th {\n",
       "        text-align: right;\n",
       "    }\n",
       "</style>\n",
       "<table border=\"1\" class=\"dataframe\">\n",
       "  <thead>\n",
       "    <tr style=\"text-align: right;\">\n",
       "      <th></th>\n",
       "      <th>year_x</th>\n",
       "      <th>grunnkrets_id_x</th>\n",
       "      <th>lat_x</th>\n",
       "      <th>lon_x</th>\n",
       "      <th>year_y</th>\n",
       "      <th>grunnkrets_id_y</th>\n",
       "      <th>lat_y</th>\n",
       "      <th>lon_y</th>\n",
       "      <th>revenue</th>\n",
       "    </tr>\n",
       "  </thead>\n",
       "  <tbody>\n",
       "    <tr>\n",
       "      <th>count</th>\n",
       "      <td>50.0</td>\n",
       "      <td>5.000000e+01</td>\n",
       "      <td>50.000000</td>\n",
       "      <td>50.000000</td>\n",
       "      <td>50.0</td>\n",
       "      <td>5.000000e+01</td>\n",
       "      <td>50.000000</td>\n",
       "      <td>50.000000</td>\n",
       "      <td>50.000000</td>\n",
       "    </tr>\n",
       "    <tr>\n",
       "      <th>mean</th>\n",
       "      <td>2016.0</td>\n",
       "      <td>1.082298e+07</td>\n",
       "      <td>61.908053</td>\n",
       "      <td>10.342839</td>\n",
       "      <td>2016.0</td>\n",
       "      <td>9.872610e+06</td>\n",
       "      <td>61.580750</td>\n",
       "      <td>10.216881</td>\n",
       "      <td>11.828460</td>\n",
       "    </tr>\n",
       "    <tr>\n",
       "      <th>std</th>\n",
       "      <td>0.0</td>\n",
       "      <td>5.841320e+06</td>\n",
       "      <td>3.514143</td>\n",
       "      <td>3.587168</td>\n",
       "      <td>0.0</td>\n",
       "      <td>5.950003e+06</td>\n",
       "      <td>3.468317</td>\n",
       "      <td>3.868324</td>\n",
       "      <td>23.453886</td>\n",
       "    </tr>\n",
       "    <tr>\n",
       "      <th>min</th>\n",
       "      <td>2016.0</td>\n",
       "      <td>2.130304e+06</td>\n",
       "      <td>58.027347</td>\n",
       "      <td>5.323728</td>\n",
       "      <td>2016.0</td>\n",
       "      <td>1.010206e+06</td>\n",
       "      <td>58.179772</td>\n",
       "      <td>5.190352</td>\n",
       "      <td>0.192000</td>\n",
       "    </tr>\n",
       "    <tr>\n",
       "      <th>25%</th>\n",
       "      <td>2016.0</td>\n",
       "      <td>5.160203e+06</td>\n",
       "      <td>59.268041</td>\n",
       "      <td>7.860412</td>\n",
       "      <td>2016.0</td>\n",
       "      <td>4.275456e+06</td>\n",
       "      <td>59.301062</td>\n",
       "      <td>7.360328</td>\n",
       "      <td>1.910250</td>\n",
       "    </tr>\n",
       "    <tr>\n",
       "      <th>50%</th>\n",
       "      <td>2016.0</td>\n",
       "      <td>1.070035e+07</td>\n",
       "      <td>60.392696</td>\n",
       "      <td>10.407852</td>\n",
       "      <td>2016.0</td>\n",
       "      <td>1.058520e+07</td>\n",
       "      <td>59.950638</td>\n",
       "      <td>10.442986</td>\n",
       "      <td>4.789000</td>\n",
       "    </tr>\n",
       "    <tr>\n",
       "      <th>75%</th>\n",
       "      <td>2016.0</td>\n",
       "      <td>1.620020e+07</td>\n",
       "      <td>63.435578</td>\n",
       "      <td>10.885508</td>\n",
       "      <td>2016.0</td>\n",
       "      <td>1.525775e+07</td>\n",
       "      <td>62.650476</td>\n",
       "      <td>10.927356</td>\n",
       "      <td>9.136250</td>\n",
       "    </tr>\n",
       "    <tr>\n",
       "      <th>max</th>\n",
       "      <td>2016.0</td>\n",
       "      <td>1.903040e+07</td>\n",
       "      <td>69.667076</td>\n",
       "      <td>18.970989</td>\n",
       "      <td>2016.0</td>\n",
       "      <td>1.925020e+07</td>\n",
       "      <td>69.649089</td>\n",
       "      <td>18.991212</td>\n",
       "      <td>127.436000</td>\n",
       "    </tr>\n",
       "  </tbody>\n",
       "</table>\n",
       "</div>"
      ],
      "text/plain": [
       "       year_x  grunnkrets_id_x      lat_x      lon_x  year_y  grunnkrets_id_y  \\\n",
       "count    50.0     5.000000e+01  50.000000  50.000000    50.0     5.000000e+01   \n",
       "mean   2016.0     1.082298e+07  61.908053  10.342839  2016.0     9.872610e+06   \n",
       "std       0.0     5.841320e+06   3.514143   3.587168     0.0     5.950003e+06   \n",
       "min    2016.0     2.130304e+06  58.027347   5.323728  2016.0     1.010206e+06   \n",
       "25%    2016.0     5.160203e+06  59.268041   7.860412  2016.0     4.275456e+06   \n",
       "50%    2016.0     1.070035e+07  60.392696  10.407852  2016.0     1.058520e+07   \n",
       "75%    2016.0     1.620020e+07  63.435578  10.885508  2016.0     1.525775e+07   \n",
       "max    2016.0     1.903040e+07  69.667076  18.970989  2016.0     1.925020e+07   \n",
       "\n",
       "           lat_y      lon_y     revenue  \n",
       "count  50.000000  50.000000   50.000000  \n",
       "mean   61.580750  10.216881   11.828460  \n",
       "std     3.468317   3.868324   23.453886  \n",
       "min    58.179772   5.190352    0.192000  \n",
       "25%    59.301062   7.360328    1.910250  \n",
       "50%    59.950638  10.442986    4.789000  \n",
       "75%    62.650476  10.927356    9.136250  \n",
       "max    69.649089  18.991212  127.436000  "
      ]
     },
     "execution_count": 190,
     "metadata": {},
     "output_type": "execute_result"
    }
   ],
   "source": [
    "def stores_that_are_in_both_sets(df1, df2):\n",
    "    \n",
    "    duplicate_set = pd.merge(df1,df2, how='inner', on='store_name')\n",
    "    return duplicate_set\n",
    "\n",
    "stores_train = pd.read_csv('data/stores_train.csv')\n",
    "stores_test = pd.read_csv('data/stores_test.csv')\n",
    "stores_extra = pd.read_csv('data/stores_extra.csv')\n",
    "\n",
    "dup = stores_that_are_in_both_sets(stores_test, stores_train)\n",
    "dup.describe()"
   ]
  },
  {
   "cell_type": "markdown",
   "metadata": {},
   "source": [
    "### explore the other data sets"
   ]
  },
  {
   "cell_type": "code",
   "execution_count": 219,
   "metadata": {},
   "outputs": [
    {
     "data": {
      "text/html": [
       "<div>\n",
       "<style scoped>\n",
       "    .dataframe tbody tr th:only-of-type {\n",
       "        vertical-align: middle;\n",
       "    }\n",
       "\n",
       "    .dataframe tbody tr th {\n",
       "        vertical-align: top;\n",
       "    }\n",
       "\n",
       "    .dataframe thead th {\n",
       "        text-align: right;\n",
       "    }\n",
       "</style>\n",
       "<table border=\"1\" class=\"dataframe\">\n",
       "  <thead>\n",
       "    <tr style=\"text-align: right;\">\n",
       "      <th></th>\n",
       "      <th>busstop_id</th>\n",
       "      <th>stopplace_type</th>\n",
       "      <th>importance_level</th>\n",
       "      <th>side_placement</th>\n",
       "      <th>geometry</th>\n",
       "    </tr>\n",
       "  </thead>\n",
       "  <tbody>\n",
       "    <tr>\n",
       "      <th>0</th>\n",
       "      <td>853cb081-cc32-4880-aa3e-26e96870d874</td>\n",
       "      <td>Plattform og lomme</td>\n",
       "      <td>Mangler viktighetsnivå</td>\n",
       "      <td>LEFT_AND_RIGHT</td>\n",
       "      <td>POINT(6.54064723379766 61.0618887850553)</td>\n",
       "    </tr>\n",
       "    <tr>\n",
       "      <th>1</th>\n",
       "      <td>156b052b-2771-497a-b4f4-97fed59e1aca</td>\n",
       "      <td>Lomme og skilt, ikke plattform</td>\n",
       "      <td>Mangler viktighetsnivå</td>\n",
       "      <td>LEFT_AND_RIGHT</td>\n",
       "      <td>POINT(5.89980086113255 60.1421872817075)</td>\n",
       "    </tr>\n",
       "    <tr>\n",
       "      <th>2</th>\n",
       "      <td>7312a280-e14f-4b09-a421-02e8fe1bc63e</td>\n",
       "      <td>NaN</td>\n",
       "      <td>Mangler viktighetsnivå</td>\n",
       "      <td>MIDDLE_LEFT</td>\n",
       "      <td>POINT(10.7781327278563 59.9299988828761)</td>\n",
       "    </tr>\n",
       "    <tr>\n",
       "      <th>3</th>\n",
       "      <td>d9cda2c7-355a-49c1-b56c-a33180d2a82e</td>\n",
       "      <td>NaN</td>\n",
       "      <td>Mangler viktighetsnivå</td>\n",
       "      <td>MIDDLE_LEFT</td>\n",
       "      <td>POINT(10.7781496457324 59.9301044643692)</td>\n",
       "    </tr>\n",
       "    <tr>\n",
       "      <th>4</th>\n",
       "      <td>f803bcd3-182d-450b-bbb4-113c6ca885c2</td>\n",
       "      <td>NaN</td>\n",
       "      <td>Mangler viktighetsnivå</td>\n",
       "      <td>MIDDLE_RIGHT</td>\n",
       "      <td>POINT(10.7781676444854 59.9302099995898)</td>\n",
       "    </tr>\n",
       "  </tbody>\n",
       "</table>\n",
       "</div>"
      ],
      "text/plain": [
       "                             busstop_id                  stopplace_type  \\\n",
       "0  853cb081-cc32-4880-aa3e-26e96870d874              Plattform og lomme   \n",
       "1  156b052b-2771-497a-b4f4-97fed59e1aca  Lomme og skilt, ikke plattform   \n",
       "2  7312a280-e14f-4b09-a421-02e8fe1bc63e                             NaN   \n",
       "3  d9cda2c7-355a-49c1-b56c-a33180d2a82e                             NaN   \n",
       "4  f803bcd3-182d-450b-bbb4-113c6ca885c2                             NaN   \n",
       "\n",
       "         importance_level  side_placement  \\\n",
       "0  Mangler viktighetsnivå  LEFT_AND_RIGHT   \n",
       "1  Mangler viktighetsnivå  LEFT_AND_RIGHT   \n",
       "2  Mangler viktighetsnivå     MIDDLE_LEFT   \n",
       "3  Mangler viktighetsnivå     MIDDLE_LEFT   \n",
       "4  Mangler viktighetsnivå    MIDDLE_RIGHT   \n",
       "\n",
       "                                   geometry  \n",
       "0  POINT(6.54064723379766 61.0618887850553)  \n",
       "1  POINT(5.89980086113255 60.1421872817075)  \n",
       "2  POINT(10.7781327278563 59.9299988828761)  \n",
       "3  POINT(10.7781496457324 59.9301044643692)  \n",
       "4  POINT(10.7781676444854 59.9302099995898)  "
      ]
     },
     "execution_count": 219,
     "metadata": {},
     "output_type": "execute_result"
    }
   ],
   "source": [
    "buss_stopps = pd.read_csv('data/busstops_norway.csv')\n",
    "buss_stopps.head()"
   ]
  },
  {
   "cell_type": "code",
   "execution_count": 220,
   "metadata": {},
   "outputs": [
    {
     "data": {
      "text/html": [
       "<div>\n",
       "<style scoped>\n",
       "    .dataframe tbody tr th:only-of-type {\n",
       "        vertical-align: middle;\n",
       "    }\n",
       "\n",
       "    .dataframe tbody tr th {\n",
       "        vertical-align: top;\n",
       "    }\n",
       "\n",
       "    .dataframe thead th {\n",
       "        text-align: right;\n",
       "    }\n",
       "</style>\n",
       "<table border=\"1\" class=\"dataframe\">\n",
       "  <thead>\n",
       "    <tr style=\"text-align: right;\">\n",
       "      <th></th>\n",
       "      <th>grunnkrets_id</th>\n",
       "      <th>year</th>\n",
       "      <th>grunnkrets_name</th>\n",
       "      <th>district_name</th>\n",
       "      <th>municipality_name</th>\n",
       "      <th>geometry</th>\n",
       "      <th>area_km2</th>\n",
       "    </tr>\n",
       "  </thead>\n",
       "  <tbody>\n",
       "    <tr>\n",
       "      <th>0</th>\n",
       "      <td>10010701</td>\n",
       "      <td>2015</td>\n",
       "      <td>Grim-Dueknipen</td>\n",
       "      <td>Grim-Møllevann-Dalane</td>\n",
       "      <td>Kristiansand</td>\n",
       "      <td>MULTIPOLYGON(((7.97199691121304 58.14336769560...</td>\n",
       "      <td>0.768961</td>\n",
       "    </tr>\n",
       "    <tr>\n",
       "      <th>1</th>\n",
       "      <td>10010803</td>\n",
       "      <td>2015</td>\n",
       "      <td>Kvadraturen sørøst</td>\n",
       "      <td>Kvadraturen-Eg</td>\n",
       "      <td>Kristiansand</td>\n",
       "      <td>POLYGON((8.00234207061135 58.1443514886041, 8....</td>\n",
       "      <td>0.361355</td>\n",
       "    </tr>\n",
       "    <tr>\n",
       "      <th>2</th>\n",
       "      <td>10020608</td>\n",
       "      <td>2015</td>\n",
       "      <td>Ormestad</td>\n",
       "      <td>Holum</td>\n",
       "      <td>Mandal</td>\n",
       "      <td>POLYGON((7.48512808482995 58.0374976883392, 7....</td>\n",
       "      <td>0.280188</td>\n",
       "    </tr>\n",
       "    <tr>\n",
       "      <th>3</th>\n",
       "      <td>10020901</td>\n",
       "      <td>2015</td>\n",
       "      <td>Tregde</td>\n",
       "      <td>Tregde-Skjernøy</td>\n",
       "      <td>Mandal</td>\n",
       "      <td>MULTIPOLYGON(((7.50996051810658 58.02134863868...</td>\n",
       "      <td>0.156311</td>\n",
       "    </tr>\n",
       "    <tr>\n",
       "      <th>4</th>\n",
       "      <td>10030210</td>\n",
       "      <td>2015</td>\n",
       "      <td>Bryneheia</td>\n",
       "      <td>Vanse/Åpta</td>\n",
       "      <td>Farsund</td>\n",
       "      <td>POLYGON((6.70396719073296 58.0877854965615, 6....</td>\n",
       "      <td>0.791894</td>\n",
       "    </tr>\n",
       "  </tbody>\n",
       "</table>\n",
       "</div>"
      ],
      "text/plain": [
       "   grunnkrets_id  year     grunnkrets_name          district_name  \\\n",
       "0       10010701  2015      Grim-Dueknipen  Grim-Møllevann-Dalane   \n",
       "1       10010803  2015  Kvadraturen sørøst         Kvadraturen-Eg   \n",
       "2       10020608  2015            Ormestad                  Holum   \n",
       "3       10020901  2015              Tregde        Tregde-Skjernøy   \n",
       "4       10030210  2015           Bryneheia             Vanse/Åpta   \n",
       "\n",
       "  municipality_name                                           geometry  \\\n",
       "0      Kristiansand  MULTIPOLYGON(((7.97199691121304 58.14336769560...   \n",
       "1      Kristiansand  POLYGON((8.00234207061135 58.1443514886041, 8....   \n",
       "2            Mandal  POLYGON((7.48512808482995 58.0374976883392, 7....   \n",
       "3            Mandal  MULTIPOLYGON(((7.50996051810658 58.02134863868...   \n",
       "4           Farsund  POLYGON((6.70396719073296 58.0877854965615, 6....   \n",
       "\n",
       "   area_km2  \n",
       "0  0.768961  \n",
       "1  0.361355  \n",
       "2  0.280188  \n",
       "3  0.156311  \n",
       "4  0.791894  "
      ]
     },
     "execution_count": 220,
     "metadata": {},
     "output_type": "execute_result"
    }
   ],
   "source": [
    "grunnkrets = pd.read_csv('data/grunnkrets_norway_stripped.csv')\n",
    "grunnkrets.head()"
   ]
  },
  {
   "cell_type": "markdown",
   "metadata": {},
   "source": [
    "#"
   ]
  },
  {
   "cell_type": "code",
   "execution_count": 246,
   "metadata": {},
   "outputs": [
    {
     "data": {
      "text/html": [
       "<div>\n",
       "<style scoped>\n",
       "    .dataframe tbody tr th:only-of-type {\n",
       "        vertical-align: middle;\n",
       "    }\n",
       "\n",
       "    .dataframe tbody tr th {\n",
       "        vertical-align: top;\n",
       "    }\n",
       "\n",
       "    .dataframe thead th {\n",
       "        text-align: right;\n",
       "    }\n",
       "</style>\n",
       "<table border=\"1\" class=\"dataframe\">\n",
       "  <thead>\n",
       "    <tr style=\"text-align: right;\">\n",
       "      <th></th>\n",
       "      <th>grunnkrets_id</th>\n",
       "      <th>year</th>\n",
       "      <th>all_households</th>\n",
       "      <th>singles</th>\n",
       "      <th>couple_without_children</th>\n",
       "      <th>couple_with_children</th>\n",
       "      <th>other_households</th>\n",
       "      <th>single_parent_with_children</th>\n",
       "    </tr>\n",
       "  </thead>\n",
       "  <tbody>\n",
       "    <tr>\n",
       "      <th>0</th>\n",
       "      <td>14200105</td>\n",
       "      <td>2016</td>\n",
       "      <td>551700</td>\n",
       "      <td>270300</td>\n",
       "      <td>0</td>\n",
       "      <td>0</td>\n",
       "      <td>0</td>\n",
       "      <td>0</td>\n",
       "    </tr>\n",
       "    <tr>\n",
       "      <th>1</th>\n",
       "      <td>2311202</td>\n",
       "      <td>2015</td>\n",
       "      <td>577700</td>\n",
       "      <td>311800</td>\n",
       "      <td>0</td>\n",
       "      <td>682300</td>\n",
       "      <td>0</td>\n",
       "      <td>0</td>\n",
       "    </tr>\n",
       "    <tr>\n",
       "      <th>2</th>\n",
       "      <td>2310501</td>\n",
       "      <td>2015</td>\n",
       "      <td>668800</td>\n",
       "      <td>292500</td>\n",
       "      <td>0</td>\n",
       "      <td>842000</td>\n",
       "      <td>0</td>\n",
       "      <td>0</td>\n",
       "    </tr>\n",
       "    <tr>\n",
       "      <th>3</th>\n",
       "      <td>14200401</td>\n",
       "      <td>2016</td>\n",
       "      <td>507000</td>\n",
       "      <td>250700</td>\n",
       "      <td>0</td>\n",
       "      <td>0</td>\n",
       "      <td>0</td>\n",
       "      <td>0</td>\n",
       "    </tr>\n",
       "    <tr>\n",
       "      <th>4</th>\n",
       "      <td>14200105</td>\n",
       "      <td>2015</td>\n",
       "      <td>539900</td>\n",
       "      <td>275800</td>\n",
       "      <td>0</td>\n",
       "      <td>710300</td>\n",
       "      <td>0</td>\n",
       "      <td>0</td>\n",
       "    </tr>\n",
       "  </tbody>\n",
       "</table>\n",
       "</div>"
      ],
      "text/plain": [
       "   grunnkrets_id  year  all_households  singles  couple_without_children  \\\n",
       "0       14200105  2016          551700   270300                        0   \n",
       "1        2311202  2015          577700   311800                        0   \n",
       "2        2310501  2015          668800   292500                        0   \n",
       "3       14200401  2016          507000   250700                        0   \n",
       "4       14200105  2015          539900   275800                        0   \n",
       "\n",
       "   couple_with_children  other_households  single_parent_with_children  \n",
       "0                     0                 0                            0  \n",
       "1                682300                 0                            0  \n",
       "2                842000                 0                            0  \n",
       "3                     0                 0                            0  \n",
       "4                710300                 0                            0  "
      ]
     },
     "execution_count": 246,
     "metadata": {},
     "output_type": "execute_result"
    }
   ],
   "source": [
    "gk_income = pd.read_csv('data/grunnkrets_income_households.csv')\n",
    "gk_income.head()"
   ]
  },
  {
   "cell_type": "code",
   "execution_count": 353,
   "metadata": {},
   "outputs": [
    {
     "name": "stdout",
     "output_type": "stream",
     "text": [
      "(12859, 12)\n"
     ]
    },
    {
     "ename": "ValueError",
     "evalue": "columns overlap but no suffix specified: Index(['grunnkrets_id'], dtype='object')",
     "output_type": "error",
     "traceback": [
      "\u001b[0;31m---------------------------------------------------------------------------\u001b[0m",
      "\u001b[0;31mValueError\u001b[0m                                Traceback (most recent call last)",
      "Cell \u001b[0;32mIn [353], line 12\u001b[0m\n\u001b[1;32m      7\u001b[0m grunnkrets\u001b[39m.\u001b[39mdrop([\u001b[39m'\u001b[39m\u001b[39myear\u001b[39m\u001b[39m'\u001b[39m,\u001b[39m'\u001b[39m\u001b[39mgeometry\u001b[39m\u001b[39m'\u001b[39m,\u001b[39m'\u001b[39m\u001b[39marea_km2\u001b[39m\u001b[39m'\u001b[39m,\u001b[39m'\u001b[39m\u001b[39mmunicipality_name\u001b[39m\u001b[39m'\u001b[39m,\u001b[39m'\u001b[39m\u001b[39mgrunnkrets_name\u001b[39m\u001b[39m'\u001b[39m], axis\u001b[39m=\u001b[39m\u001b[39m1\u001b[39m, inplace\u001b[39m=\u001b[39m\u001b[39mTrue\u001b[39;00m)\n\u001b[1;32m      9\u001b[0m \u001b[39m#income = pd.read_csv('data/grunnkrets_income_households.csv')\u001b[39;00m\n\u001b[1;32m     10\u001b[0m \u001b[39m#income.drop(['year','singles','couple_with_children','other_households','single_parent_with_children','couple_without_children'],axis=1, inplace=True)\u001b[39;00m\n\u001b[0;32m---> 12\u001b[0m stores_train_new \u001b[39m=\u001b[39m stores_train\u001b[39m.\u001b[39;49mjoin(grunnkrets, how\u001b[39m=\u001b[39;49m\u001b[39m'\u001b[39;49m\u001b[39mleft\u001b[39;49m\u001b[39m'\u001b[39;49m, on\u001b[39m=\u001b[39;49m\u001b[39m'\u001b[39;49m\u001b[39mgrunnkrets_id\u001b[39;49m\u001b[39m'\u001b[39;49m)\n\u001b[1;32m     13\u001b[0m \u001b[39m#stores_train_new = stores_train_new.merge(income, how='inner', on='grunnkrets_id')\u001b[39;00m\n\u001b[1;32m     14\u001b[0m \u001b[39mprint\u001b[39m(stores_train_new\u001b[39m.\u001b[39mshape)\n",
      "File \u001b[0;32m~/Documents/skole/3.klasse/5.semester/MachineLearning/CodeFolder2/MachineLearning-TDT4173-Project/MLvenv/lib/python3.9/site-packages/pandas/core/frame.py:9966\u001b[0m, in \u001b[0;36mDataFrame.join\u001b[0;34m(self, other, on, how, lsuffix, rsuffix, sort, validate)\u001b[0m\n\u001b[1;32m   9803\u001b[0m \u001b[39mdef\u001b[39;00m \u001b[39mjoin\u001b[39m(\n\u001b[1;32m   9804\u001b[0m     \u001b[39mself\u001b[39m,\n\u001b[1;32m   9805\u001b[0m     other: DataFrame \u001b[39m|\u001b[39m Series \u001b[39m|\u001b[39m \u001b[39mlist\u001b[39m[DataFrame \u001b[39m|\u001b[39m Series],\n\u001b[0;32m   (...)\u001b[0m\n\u001b[1;32m   9811\u001b[0m     validate: \u001b[39mstr\u001b[39m \u001b[39m|\u001b[39m \u001b[39mNone\u001b[39;00m \u001b[39m=\u001b[39m \u001b[39mNone\u001b[39;00m,\n\u001b[1;32m   9812\u001b[0m ) \u001b[39m-\u001b[39m\u001b[39m>\u001b[39m DataFrame:\n\u001b[1;32m   9813\u001b[0m     \u001b[39m\"\"\"\u001b[39;00m\n\u001b[1;32m   9814\u001b[0m \u001b[39m    Join columns of another DataFrame.\u001b[39;00m\n\u001b[1;32m   9815\u001b[0m \n\u001b[0;32m   (...)\u001b[0m\n\u001b[1;32m   9964\u001b[0m \u001b[39m    5  K1  A5   B1\u001b[39;00m\n\u001b[1;32m   9965\u001b[0m \u001b[39m    \"\"\"\u001b[39;00m\n\u001b[0;32m-> 9966\u001b[0m     \u001b[39mreturn\u001b[39;00m \u001b[39mself\u001b[39;49m\u001b[39m.\u001b[39;49m_join_compat(\n\u001b[1;32m   9967\u001b[0m         other,\n\u001b[1;32m   9968\u001b[0m         on\u001b[39m=\u001b[39;49mon,\n\u001b[1;32m   9969\u001b[0m         how\u001b[39m=\u001b[39;49mhow,\n\u001b[1;32m   9970\u001b[0m         lsuffix\u001b[39m=\u001b[39;49mlsuffix,\n\u001b[1;32m   9971\u001b[0m         rsuffix\u001b[39m=\u001b[39;49mrsuffix,\n\u001b[1;32m   9972\u001b[0m         sort\u001b[39m=\u001b[39;49msort,\n\u001b[1;32m   9973\u001b[0m         validate\u001b[39m=\u001b[39;49mvalidate,\n\u001b[1;32m   9974\u001b[0m     )\n",
      "File \u001b[0;32m~/Documents/skole/3.klasse/5.semester/MachineLearning/CodeFolder2/MachineLearning-TDT4173-Project/MLvenv/lib/python3.9/site-packages/pandas/core/frame.py:10005\u001b[0m, in \u001b[0;36mDataFrame._join_compat\u001b[0;34m(self, other, on, how, lsuffix, rsuffix, sort, validate)\u001b[0m\n\u001b[1;32m   9995\u001b[0m     \u001b[39mif\u001b[39;00m how \u001b[39m==\u001b[39m \u001b[39m\"\u001b[39m\u001b[39mcross\u001b[39m\u001b[39m\"\u001b[39m:\n\u001b[1;32m   9996\u001b[0m         \u001b[39mreturn\u001b[39;00m merge(\n\u001b[1;32m   9997\u001b[0m             \u001b[39mself\u001b[39m,\n\u001b[1;32m   9998\u001b[0m             other,\n\u001b[0;32m   (...)\u001b[0m\n\u001b[1;32m  10003\u001b[0m             validate\u001b[39m=\u001b[39mvalidate,\n\u001b[1;32m  10004\u001b[0m         )\n\u001b[0;32m> 10005\u001b[0m     \u001b[39mreturn\u001b[39;00m merge(\n\u001b[1;32m  10006\u001b[0m         \u001b[39mself\u001b[39;49m,\n\u001b[1;32m  10007\u001b[0m         other,\n\u001b[1;32m  10008\u001b[0m         left_on\u001b[39m=\u001b[39;49mon,\n\u001b[1;32m  10009\u001b[0m         how\u001b[39m=\u001b[39;49mhow,\n\u001b[1;32m  10010\u001b[0m         left_index\u001b[39m=\u001b[39;49mon \u001b[39mis\u001b[39;49;00m \u001b[39mNone\u001b[39;49;00m,\n\u001b[1;32m  10011\u001b[0m         right_index\u001b[39m=\u001b[39;49m\u001b[39mTrue\u001b[39;49;00m,\n\u001b[1;32m  10012\u001b[0m         suffixes\u001b[39m=\u001b[39;49m(lsuffix, rsuffix),\n\u001b[1;32m  10013\u001b[0m         sort\u001b[39m=\u001b[39;49msort,\n\u001b[1;32m  10014\u001b[0m         validate\u001b[39m=\u001b[39;49mvalidate,\n\u001b[1;32m  10015\u001b[0m     )\n\u001b[1;32m  10016\u001b[0m \u001b[39melse\u001b[39;00m:\n\u001b[1;32m  10017\u001b[0m     \u001b[39mif\u001b[39;00m on \u001b[39mis\u001b[39;00m \u001b[39mnot\u001b[39;00m \u001b[39mNone\u001b[39;00m:\n",
      "File \u001b[0;32m~/Documents/skole/3.klasse/5.semester/MachineLearning/CodeFolder2/MachineLearning-TDT4173-Project/MLvenv/lib/python3.9/site-packages/pandas/core/reshape/merge.py:124\u001b[0m, in \u001b[0;36mmerge\u001b[0;34m(left, right, how, on, left_on, right_on, left_index, right_index, sort, suffixes, copy, indicator, validate)\u001b[0m\n\u001b[1;32m     93\u001b[0m \u001b[39m@Substitution\u001b[39m(\u001b[39m\"\u001b[39m\u001b[39m\\n\u001b[39;00m\u001b[39mleft : DataFrame or named Series\u001b[39m\u001b[39m\"\u001b[39m)\n\u001b[1;32m     94\u001b[0m \u001b[39m@Appender\u001b[39m(_merge_doc, indents\u001b[39m=\u001b[39m\u001b[39m0\u001b[39m)\n\u001b[1;32m     95\u001b[0m \u001b[39mdef\u001b[39;00m \u001b[39mmerge\u001b[39m(\n\u001b[0;32m   (...)\u001b[0m\n\u001b[1;32m    108\u001b[0m     validate: \u001b[39mstr\u001b[39m \u001b[39m|\u001b[39m \u001b[39mNone\u001b[39;00m \u001b[39m=\u001b[39m \u001b[39mNone\u001b[39;00m,\n\u001b[1;32m    109\u001b[0m ) \u001b[39m-\u001b[39m\u001b[39m>\u001b[39m DataFrame:\n\u001b[1;32m    110\u001b[0m     op \u001b[39m=\u001b[39m _MergeOperation(\n\u001b[1;32m    111\u001b[0m         left,\n\u001b[1;32m    112\u001b[0m         right,\n\u001b[0;32m   (...)\u001b[0m\n\u001b[1;32m    122\u001b[0m         validate\u001b[39m=\u001b[39mvalidate,\n\u001b[1;32m    123\u001b[0m     )\n\u001b[0;32m--> 124\u001b[0m     \u001b[39mreturn\u001b[39;00m op\u001b[39m.\u001b[39;49mget_result(copy\u001b[39m=\u001b[39;49mcopy)\n",
      "File \u001b[0;32m~/Documents/skole/3.klasse/5.semester/MachineLearning/CodeFolder2/MachineLearning-TDT4173-Project/MLvenv/lib/python3.9/site-packages/pandas/core/reshape/merge.py:775\u001b[0m, in \u001b[0;36m_MergeOperation.get_result\u001b[0;34m(self, copy)\u001b[0m\n\u001b[1;32m    771\u001b[0m     \u001b[39mself\u001b[39m\u001b[39m.\u001b[39mleft, \u001b[39mself\u001b[39m\u001b[39m.\u001b[39mright \u001b[39m=\u001b[39m \u001b[39mself\u001b[39m\u001b[39m.\u001b[39m_indicator_pre_merge(\u001b[39mself\u001b[39m\u001b[39m.\u001b[39mleft, \u001b[39mself\u001b[39m\u001b[39m.\u001b[39mright)\n\u001b[1;32m    773\u001b[0m join_index, left_indexer, right_indexer \u001b[39m=\u001b[39m \u001b[39mself\u001b[39m\u001b[39m.\u001b[39m_get_join_info()\n\u001b[0;32m--> 775\u001b[0m result \u001b[39m=\u001b[39m \u001b[39mself\u001b[39;49m\u001b[39m.\u001b[39;49m_reindex_and_concat(\n\u001b[1;32m    776\u001b[0m     join_index, left_indexer, right_indexer, copy\u001b[39m=\u001b[39;49mcopy\n\u001b[1;32m    777\u001b[0m )\n\u001b[1;32m    778\u001b[0m result \u001b[39m=\u001b[39m result\u001b[39m.\u001b[39m__finalize__(\u001b[39mself\u001b[39m, method\u001b[39m=\u001b[39m\u001b[39mself\u001b[39m\u001b[39m.\u001b[39m_merge_type)\n\u001b[1;32m    780\u001b[0m \u001b[39mif\u001b[39;00m \u001b[39mself\u001b[39m\u001b[39m.\u001b[39mindicator:\n",
      "File \u001b[0;32m~/Documents/skole/3.klasse/5.semester/MachineLearning/CodeFolder2/MachineLearning-TDT4173-Project/MLvenv/lib/python3.9/site-packages/pandas/core/reshape/merge.py:729\u001b[0m, in \u001b[0;36m_MergeOperation._reindex_and_concat\u001b[0;34m(self, join_index, left_indexer, right_indexer, copy)\u001b[0m\n\u001b[1;32m    726\u001b[0m left \u001b[39m=\u001b[39m \u001b[39mself\u001b[39m\u001b[39m.\u001b[39mleft[:]\n\u001b[1;32m    727\u001b[0m right \u001b[39m=\u001b[39m \u001b[39mself\u001b[39m\u001b[39m.\u001b[39mright[:]\n\u001b[0;32m--> 729\u001b[0m llabels, rlabels \u001b[39m=\u001b[39m _items_overlap_with_suffix(\n\u001b[1;32m    730\u001b[0m     \u001b[39mself\u001b[39;49m\u001b[39m.\u001b[39;49mleft\u001b[39m.\u001b[39;49m_info_axis, \u001b[39mself\u001b[39;49m\u001b[39m.\u001b[39;49mright\u001b[39m.\u001b[39;49m_info_axis, \u001b[39mself\u001b[39;49m\u001b[39m.\u001b[39;49msuffixes\n\u001b[1;32m    731\u001b[0m )\n\u001b[1;32m    733\u001b[0m \u001b[39mif\u001b[39;00m left_indexer \u001b[39mis\u001b[39;00m \u001b[39mnot\u001b[39;00m \u001b[39mNone\u001b[39;00m:\n\u001b[1;32m    734\u001b[0m     \u001b[39m# Pinning the index here (and in the right code just below) is not\u001b[39;00m\n\u001b[1;32m    735\u001b[0m     \u001b[39m#  necessary, but makes the `.take` more performant if we have e.g.\u001b[39;00m\n\u001b[1;32m    736\u001b[0m     \u001b[39m#  a MultiIndex for left.index.\u001b[39;00m\n\u001b[1;32m    737\u001b[0m     lmgr \u001b[39m=\u001b[39m left\u001b[39m.\u001b[39m_mgr\u001b[39m.\u001b[39mreindex_indexer(\n\u001b[1;32m    738\u001b[0m         join_index,\n\u001b[1;32m    739\u001b[0m         left_indexer,\n\u001b[0;32m   (...)\u001b[0m\n\u001b[1;32m    744\u001b[0m         use_na_proxy\u001b[39m=\u001b[39m\u001b[39mTrue\u001b[39;00m,\n\u001b[1;32m    745\u001b[0m     )\n",
      "File \u001b[0;32m~/Documents/skole/3.klasse/5.semester/MachineLearning/CodeFolder2/MachineLearning-TDT4173-Project/MLvenv/lib/python3.9/site-packages/pandas/core/reshape/merge.py:2458\u001b[0m, in \u001b[0;36m_items_overlap_with_suffix\u001b[0;34m(left, right, suffixes)\u001b[0m\n\u001b[1;32m   2455\u001b[0m lsuffix, rsuffix \u001b[39m=\u001b[39m suffixes\n\u001b[1;32m   2457\u001b[0m \u001b[39mif\u001b[39;00m \u001b[39mnot\u001b[39;00m lsuffix \u001b[39mand\u001b[39;00m \u001b[39mnot\u001b[39;00m rsuffix:\n\u001b[0;32m-> 2458\u001b[0m     \u001b[39mraise\u001b[39;00m \u001b[39mValueError\u001b[39;00m(\u001b[39mf\u001b[39m\u001b[39m\"\u001b[39m\u001b[39mcolumns overlap but no suffix specified: \u001b[39m\u001b[39m{\u001b[39;00mto_rename\u001b[39m}\u001b[39;00m\u001b[39m\"\u001b[39m)\n\u001b[1;32m   2460\u001b[0m \u001b[39mdef\u001b[39;00m \u001b[39mrenamer\u001b[39m(x, suffix):\n\u001b[1;32m   2461\u001b[0m     \u001b[39m\"\"\"\u001b[39;00m\n\u001b[1;32m   2462\u001b[0m \u001b[39m    Rename the left and right indices.\u001b[39;00m\n\u001b[1;32m   2463\u001b[0m \n\u001b[0;32m   (...)\u001b[0m\n\u001b[1;32m   2474\u001b[0m \u001b[39m    x : renamed column name\u001b[39;00m\n\u001b[1;32m   2475\u001b[0m \u001b[39m    \"\"\"\u001b[39;00m\n",
      "\u001b[0;31mValueError\u001b[0m: columns overlap but no suffix specified: Index(['grunnkrets_id'], dtype='object')"
     ]
    }
   ],
   "source": [
    "stores_train = pd.read_csv('data/stores_train.csv')\n",
    "#remove_columns(stores_train, ['store_id','year'])\n",
    "print(stores_train.shape)\n",
    "\n",
    "# Add features\n",
    "grunnkrets = pd.read_csv('data/grunnkrets_norway_stripped.csv')\n",
    "grunnkrets.drop(['year','geometry','area_km2','municipality_name','grunnkrets_name'], axis=1, inplace=True)\n",
    "\n",
    "#income = pd.read_csv('data/grunnkrets_income_households.csv')\n",
    "#income.drop(['year','singles','couple_with_children','other_households','single_parent_with_children','couple_without_children'],axis=1, inplace=True)\n",
    "\n",
    "stores_train_new = stores_train.merge(grunnkrets, how='left', on='grunnkrets_id', )\n",
    "#stores_train_new = stores_train_new.merge(income, how='inner', on='grunnkrets_id')\n",
    "print(stores_train_new.shape)\n"
   ]
  },
  {
   "cell_type": "markdown",
   "metadata": {},
   "source": [
    "# 2.___________ _Machine Learning Models and Predictions_ ___________\n"
   ]
  },
  {
   "cell_type": "markdown",
   "metadata": {},
   "source": [
    "## Louis modeller"
   ]
  },
  {
   "cell_type": "markdown",
   "metadata": {},
   "source": [
    "## _____ LightGBM _____"
   ]
  },
  {
   "cell_type": "markdown",
   "metadata": {},
   "source": [
    "Helper functions"
   ]
  },
  {
   "cell_type": "code",
   "execution_count": 86,
   "metadata": {},
   "outputs": [],
   "source": [
    "def convert_DType_LGBM(dFrame):\n",
    "    X = pd.DataFrame()\n",
    "    for col_name in dFrame:\n",
    "        if dFrame[col_name].dtypes == 'object':\n",
    "            X[col_name] = dFrame[col_name].astype('category')\n",
    "        else:\n",
    "            X[col_name] = dFrame[col_name]\n",
    "    \n",
    "    return X\n"
   ]
  },
  {
   "cell_type": "code",
   "execution_count": 354,
   "metadata": {},
   "outputs": [],
   "source": [
    "stores_train = pd.read_csv('data/stores_train.csv')\n",
    "\n",
    "# select prefered columns\n",
    "#remove_columns(stores_train, ['store_id','year','store_name','sales_channel_name','grunnkrets_id','address'])\n",
    "remove_columns(stores_train, ['store_id','year'])\n",
    "\n",
    "# Add features\n",
    "grunnkrets = pd.read_csv('data/grunnkrets_norway_stripped.csv')\n",
    "grunnkrets.drop(['year','geometry','area_km2','municipality_name','grunnkrets_name'], axis=1, inplace=True)\n",
    "\n",
    "income = pd.read_csv('data/grunnkrets_income_households.csv')\n",
    "income.drop(['year','singles','couple_with_children','other_households','single_parent_with_children','couple_without_children'],axis=1, inplace=True)\n",
    "\n",
    "#stores_train = stores_train.merge(grunnkrets, how='left', on='grunnkrets_id')\n",
    "#stores_train = stores_train.merge(income, how='left', on='grunnkrets_id')\n",
    "\n",
    "# Divide data into train and test set\n",
    "temp_x = stores_train.drop('revenue', axis=1)\n",
    "temp_y = stores_train['revenue']\n",
    "\n",
    "_, x_test, _, y_test = train_test_split(temp_x, temp_y, test_size=0.20, random_state=1)\n",
    "\n",
    "\n",
    "# Preprocess/Clean data\n",
    "quantile_storeType_vs_revenue(stores_train,0.01, 0.86)\n",
    "#remove_retailers_with_0_revenue(stores_train)\n",
    "\n",
    "# Divide data into x and y train, and test data for submission\n",
    "x_train = stores_train.drop('revenue', axis=1)\n",
    "y_train = stores_train['revenue']\n",
    "\n",
    "\n",
    "# Convert from object type to numerical\n",
    "x_train = convert_DType_LGBM(x_train)\n",
    "x_test = convert_DType_LGBM(x_test)\n",
    "\n"
   ]
  },
  {
   "cell_type": "code",
   "execution_count": 355,
   "metadata": {},
   "outputs": [
    {
     "data": {
      "text/html": [
       "<div>\n",
       "<style scoped>\n",
       "    .dataframe tbody tr th:only-of-type {\n",
       "        vertical-align: middle;\n",
       "    }\n",
       "\n",
       "    .dataframe tbody tr th {\n",
       "        vertical-align: top;\n",
       "    }\n",
       "\n",
       "    .dataframe thead th {\n",
       "        text-align: right;\n",
       "    }\n",
       "</style>\n",
       "<table border=\"1\" class=\"dataframe\">\n",
       "  <thead>\n",
       "    <tr style=\"text-align: right;\">\n",
       "      <th></th>\n",
       "      <th>store_name</th>\n",
       "      <th>plaace_hierarchy_id</th>\n",
       "      <th>sales_channel_name</th>\n",
       "      <th>grunnkrets_id</th>\n",
       "      <th>address</th>\n",
       "      <th>lat</th>\n",
       "      <th>lon</th>\n",
       "      <th>chain_name</th>\n",
       "      <th>mall_name</th>\n",
       "    </tr>\n",
       "  </thead>\n",
       "  <tbody>\n",
       "    <tr>\n",
       "      <th>7171</th>\n",
       "      <td>ELITE MAT AS</td>\n",
       "      <td>2.8.1.0</td>\n",
       "      <td>Grocery stores</td>\n",
       "      <td>6020606</td>\n",
       "      <td>TOLLBUGATA 30</td>\n",
       "      <td>59.737597</td>\n",
       "      <td>10.207078</td>\n",
       "      <td>NaN</td>\n",
       "      <td>NaN</td>\n",
       "    </tr>\n",
       "    <tr>\n",
       "      <th>5164</th>\n",
       "      <td>MAXELLE AMFI ÅKREHAMN</td>\n",
       "      <td>2.4.6.0</td>\n",
       "      <td>Clothing stores</td>\n",
       "      <td>11490301</td>\n",
       "      <td>NaN</td>\n",
       "      <td>59.264405</td>\n",
       "      <td>5.192721</td>\n",
       "      <td>NaN</td>\n",
       "      <td>Amfi Åkrehamn</td>\n",
       "    </tr>\n",
       "    <tr>\n",
       "      <th>3158</th>\n",
       "      <td>JERNVARE DRANGEDAL AS</td>\n",
       "      <td>2.1.1.0</td>\n",
       "      <td>Hardware store</td>\n",
       "      <td>8170207</td>\n",
       "      <td>TØRDALSVEIEN 25 A</td>\n",
       "      <td>59.096753</td>\n",
       "      <td>9.053424</td>\n",
       "      <td>NaN</td>\n",
       "      <td>NaN</td>\n",
       "    </tr>\n",
       "    <tr>\n",
       "      <th>4234</th>\n",
       "      <td>ELKJØP  KIRKENES</td>\n",
       "      <td>2.3.1.0</td>\n",
       "      <td>Electronics stores</td>\n",
       "      <td>20300301</td>\n",
       "      <td>VERKSVEIEN 1</td>\n",
       "      <td>69.720500</td>\n",
       "      <td>30.038844</td>\n",
       "      <td>ELKJØP NORGE</td>\n",
       "      <td>NaN</td>\n",
       "    </tr>\n",
       "    <tr>\n",
       "      <th>4566</th>\n",
       "      <td>SKOTØYMAGASINET AS</td>\n",
       "      <td>2.4.2.0</td>\n",
       "      <td>Shoe stores</td>\n",
       "      <td>20190107</td>\n",
       "      <td>STORGATA 7 C</td>\n",
       "      <td>70.981458</td>\n",
       "      <td>25.974303</td>\n",
       "      <td>NaN</td>\n",
       "      <td>NaN</td>\n",
       "    </tr>\n",
       "  </tbody>\n",
       "</table>\n",
       "</div>"
      ],
      "text/plain": [
       "                 store_name plaace_hierarchy_id  sales_channel_name  \\\n",
       "7171           ELITE MAT AS             2.8.1.0      Grocery stores   \n",
       "5164  MAXELLE AMFI ÅKREHAMN             2.4.6.0     Clothing stores   \n",
       "3158  JERNVARE DRANGEDAL AS             2.1.1.0      Hardware store   \n",
       "4234       ELKJØP  KIRKENES             2.3.1.0  Electronics stores   \n",
       "4566     SKOTØYMAGASINET AS             2.4.2.0         Shoe stores   \n",
       "\n",
       "      grunnkrets_id            address        lat        lon    chain_name  \\\n",
       "7171        6020606      TOLLBUGATA 30  59.737597  10.207078           NaN   \n",
       "5164       11490301                NaN  59.264405   5.192721           NaN   \n",
       "3158        8170207  TØRDALSVEIEN 25 A  59.096753   9.053424           NaN   \n",
       "4234       20300301       VERKSVEIEN 1  69.720500  30.038844  ELKJØP NORGE   \n",
       "4566       20190107       STORGATA 7 C  70.981458  25.974303           NaN   \n",
       "\n",
       "          mall_name  \n",
       "7171            NaN  \n",
       "5164  Amfi Åkrehamn  \n",
       "3158            NaN  \n",
       "4234            NaN  \n",
       "4566            NaN  "
      ]
     },
     "execution_count": 355,
     "metadata": {},
     "output_type": "execute_result"
    }
   ],
   "source": [
    "x_test.head()"
   ]
  },
  {
   "cell_type": "markdown",
   "metadata": {},
   "source": [
    "Make model and train"
   ]
  },
  {
   "cell_type": "code",
   "execution_count": 356,
   "metadata": {},
   "outputs": [
    {
     "data": {
      "text/plain": [
       "LGBMRegressor(min_data_in_leaf=3, path_smooth=0.5)"
      ]
     },
     "execution_count": 356,
     "metadata": {},
     "output_type": "execute_result"
    }
   ],
   "source": [
    "# tune params\n",
    "parameters = {\n",
    "              #'metric': 'acc',\n",
    "              #'n_estimators' : 400\n",
    "              'path_smooth' : 0.5,\n",
    "              'min_data_in_leaf' : 3\n",
    "             }\n",
    "# Model\n",
    "LGBM = LGBMRegressor(**parameters)\n",
    "#LGBM =LGBMRegressor(reg_alpha=1.5570962138350035e-05, reg_lambda=5.304314352196518e-06,n_estimators=253)\n",
    "# fitting\n",
    "LGBM.fit(x_train, y_train)\n"
   ]
  },
  {
   "cell_type": "markdown",
   "metadata": {},
   "source": [
    "Test LightGBM"
   ]
  },
  {
   "cell_type": "code",
   "execution_count": 357,
   "metadata": {},
   "outputs": [
    {
     "name": "stdout",
     "output_type": "stream",
     "text": [
      "number of negatives: 0\n",
      "rmsle: 0.7403387581097529\n"
     ]
    }
   ],
   "source": [
    "# predicting the test split\n",
    "pred = LGBM.predict(x_test)\n",
    "number_of_negatives = 0\n",
    "for i in range(len(pred)):\n",
    "    if pred[i] < 0.0:\n",
    "        number_of_negatives += 1\n",
    "        pred[i] = 0.0\n",
    "print(f\"number of negatives: {number_of_negatives}\")\n",
    "print(f\"rmsle: {rmsle(y_test,pred)}\")"
   ]
  },
  {
   "cell_type": "code",
   "execution_count": null,
   "metadata": {},
   "outputs": [],
   "source": [
    "# Previous rmse scores gave the following kaggle scores:\n",
    "# - 0.74281469137304 rmsle resulted in: 0.75490 on kaggle - without hyperparameter tuning\n",
    "# - 0.723009869045512 rmsle resulted in: 0.76138 on kaggle - with hyperparameter tuning => overfitted? used non categorical datatype, significantly redused performance\n",
    "# - 0.7253602035043905 rmsle resulted in 0.75625 in kaggle - no hyperparameter tuning, include all attributes"
   ]
  },
  {
   "cell_type": "code",
   "execution_count": null,
   "metadata": {},
   "outputs": [],
   "source": [
    "\n",
    "\n"
   ]
  },
  {
   "cell_type": "markdown",
   "metadata": {},
   "source": [
    "Predict test and submit"
   ]
  },
  {
   "cell_type": "code",
   "execution_count": 358,
   "metadata": {},
   "outputs": [
    {
     "name": "stdout",
     "output_type": "stream",
     "text": [
      "[LightGBM] [Warning] min_data_in_leaf is set=3, min_child_samples=20 will be ignored. Current value: min_data_in_leaf=3\n",
      "7\n"
     ]
    }
   ],
   "source": [
    "stores_train = pd.read_csv('data/stores_train.csv')\n",
    "stores_test = pd.read_csv('data/stores_test.csv')\n",
    "test = stores_test.copy()\n",
    "\n",
    "# Select columns/features\n",
    "remove_columns(stores_train, ['store_id','year'])\n",
    "remove_columns(test, ['store_id','year'])\n",
    "\n",
    "#grunnkrets = pd.read_csv('data/grunnkrets_norway_stripped.csv')\n",
    "#grunnkrets.drop(['year','geometry','area_km2','municipality_name','grunnkrets_name'], axis=1, inplace=True)\n",
    "\n",
    "#income = pd.read_csv('data/grunnkrets_income_households.csv')\n",
    "#income.drop(['year','singles','couple_with_children','other_households','single_parent_with_children','couple_without_children'],axis=1, inplace=True)\n",
    "\n",
    "#stores_train = stores_train.merge(grunnkrets, how='inner', on='grunnkrets_id')\n",
    "#stores_train = stores_train.merge(income, how='inner', on='grunnkrets_id')\n",
    "\n",
    "#test = test.merge(grunnkrets, how='left', on='grunnkrets_id')\n",
    "#test = test.merge(income, how='left', on='grunnkrets_id')\n",
    "\n",
    "\n",
    "# Preprocess/Clean data\n",
    "quantile_storeType_vs_revenue(stores_train,0.01, 0.86)\n",
    "#remove_retailers_with_0_revenue(stores_train)\n",
    "\n",
    "# Divide data into x and y train, and test data for submission\n",
    "x_train = stores_train.drop('revenue', axis=1)\n",
    "y_train = stores_train['revenue']\n",
    "\n",
    "# Convert from object type to numerical\n",
    "x_train = convert_DType_LGBM(x_train)\n",
    "test = convert_DType_LGBM(test)\n",
    "\n",
    "# Model and fitting\n",
    "LGBM =LGBMRegressor(**parameters)\n",
    "LGBM.fit(x_train, y_train)\n",
    "\n",
    "# Predict test-data-set\n",
    "pred_test_LGBM = LGBM.predict(test)\n",
    "\n",
    "# remove negative values\n",
    "number_of_negatives = 0\n",
    "for i in range(len(pred_test_LGBM)):\n",
    "    if pred_test_LGBM[i] < 0.0:\n",
    "        number_of_negatives += 1\n",
    "        pred_test_LGBM[i] = 0.0\n",
    "print(number_of_negatives)\n"
   ]
  },
  {
   "cell_type": "code",
   "execution_count": 359,
   "metadata": {},
   "outputs": [
    {
     "name": "stdout",
     "output_type": "stream",
     "text": [
      "(8577, 9)\n"
     ]
    },
    {
     "data": {
      "text/html": [
       "<div>\n",
       "<style scoped>\n",
       "    .dataframe tbody tr th:only-of-type {\n",
       "        vertical-align: middle;\n",
       "    }\n",
       "\n",
       "    .dataframe tbody tr th {\n",
       "        vertical-align: top;\n",
       "    }\n",
       "\n",
       "    .dataframe thead th {\n",
       "        text-align: right;\n",
       "    }\n",
       "</style>\n",
       "<table border=\"1\" class=\"dataframe\">\n",
       "  <thead>\n",
       "    <tr style=\"text-align: right;\">\n",
       "      <th></th>\n",
       "      <th>store_name</th>\n",
       "      <th>plaace_hierarchy_id</th>\n",
       "      <th>sales_channel_name</th>\n",
       "      <th>grunnkrets_id</th>\n",
       "      <th>address</th>\n",
       "      <th>lat</th>\n",
       "      <th>lon</th>\n",
       "      <th>chain_name</th>\n",
       "      <th>mall_name</th>\n",
       "    </tr>\n",
       "  </thead>\n",
       "  <tbody>\n",
       "    <tr>\n",
       "      <th>0</th>\n",
       "      <td>VÅLERENGA HALAL BURGER AS</td>\n",
       "      <td>1.1.1.0</td>\n",
       "      <td>Hamburger restaurants</td>\n",
       "      <td>3012704</td>\n",
       "      <td>STRØMSVEIEN 25 A</td>\n",
       "      <td>59.908672</td>\n",
       "      <td>10.787031</td>\n",
       "      <td>NaN</td>\n",
       "      <td>NaN</td>\n",
       "    </tr>\n",
       "    <tr>\n",
       "      <th>1</th>\n",
       "      <td>BURGER KING MYREN</td>\n",
       "      <td>1.1.1.0</td>\n",
       "      <td>Hamburger restaurants</td>\n",
       "      <td>8061401</td>\n",
       "      <td>MYREN 1</td>\n",
       "      <td>59.201467</td>\n",
       "      <td>9.588243</td>\n",
       "      <td>BURGER KING</td>\n",
       "      <td>NaN</td>\n",
       "    </tr>\n",
       "    <tr>\n",
       "      <th>2</th>\n",
       "      <td>BURGER KING STOVNER</td>\n",
       "      <td>1.1.1.0</td>\n",
       "      <td>Hamburger restaurants</td>\n",
       "      <td>3013917</td>\n",
       "      <td>STOVNER SENTER 3</td>\n",
       "      <td>59.962146</td>\n",
       "      <td>10.924524</td>\n",
       "      <td>BURGER KING</td>\n",
       "      <td>Stovner Senter</td>\n",
       "    </tr>\n",
       "    <tr>\n",
       "      <th>3</th>\n",
       "      <td>BURGER KING TUNGASLETTA</td>\n",
       "      <td>1.1.1.0</td>\n",
       "      <td>Hamburger restaurants</td>\n",
       "      <td>16012104</td>\n",
       "      <td>TUNGASLETTA 16</td>\n",
       "      <td>63.420785</td>\n",
       "      <td>10.461091</td>\n",
       "      <td>BURGER KING</td>\n",
       "      <td>NaN</td>\n",
       "    </tr>\n",
       "    <tr>\n",
       "      <th>4</th>\n",
       "      <td>VULKAN BURGERBAR</td>\n",
       "      <td>1.1.1.0</td>\n",
       "      <td>Hamburger restaurants</td>\n",
       "      <td>3014305</td>\n",
       "      <td>AUD SCHØNEMANNS VEI 15</td>\n",
       "      <td>59.921102</td>\n",
       "      <td>10.785123</td>\n",
       "      <td>VULKAN BURGERBAR</td>\n",
       "      <td>NaN</td>\n",
       "    </tr>\n",
       "  </tbody>\n",
       "</table>\n",
       "</div>"
      ],
      "text/plain": [
       "                  store_name plaace_hierarchy_id     sales_channel_name  \\\n",
       "0  VÅLERENGA HALAL BURGER AS             1.1.1.0  Hamburger restaurants   \n",
       "1          BURGER KING MYREN             1.1.1.0  Hamburger restaurants   \n",
       "2        BURGER KING STOVNER             1.1.1.0  Hamburger restaurants   \n",
       "3    BURGER KING TUNGASLETTA             1.1.1.0  Hamburger restaurants   \n",
       "4           VULKAN BURGERBAR             1.1.1.0  Hamburger restaurants   \n",
       "\n",
       "   grunnkrets_id                 address        lat        lon  \\\n",
       "0        3012704        STRØMSVEIEN 25 A  59.908672  10.787031   \n",
       "1        8061401                 MYREN 1  59.201467   9.588243   \n",
       "2        3013917        STOVNER SENTER 3  59.962146  10.924524   \n",
       "3       16012104          TUNGASLETTA 16  63.420785  10.461091   \n",
       "4        3014305  AUD SCHØNEMANNS VEI 15  59.921102  10.785123   \n",
       "\n",
       "         chain_name       mall_name  \n",
       "0               NaN             NaN  \n",
       "1       BURGER KING             NaN  \n",
       "2       BURGER KING  Stovner Senter  \n",
       "3       BURGER KING             NaN  \n",
       "4  VULKAN BURGERBAR             NaN  "
      ]
     },
     "execution_count": 359,
     "metadata": {},
     "output_type": "execute_result"
    }
   ],
   "source": [
    "\n",
    "print(test.shape)\n",
    "test.head()"
   ]
  },
  {
   "cell_type": "code",
   "execution_count": 360,
   "metadata": {},
   "outputs": [
    {
     "name": "stdout",
     "output_type": "stream",
     "text": [
      "<class 'pandas.core.frame.DataFrame'>\n",
      "RangeIndex: 8577 entries, 0 to 8576\n",
      "Data columns (total 2 columns):\n",
      " #   Column     Non-Null Count  Dtype  \n",
      "---  ------     --------------  -----  \n",
      " 0   id         8577 non-null   object \n",
      " 1   predicted  8577 non-null   float64\n",
      "dtypes: float64(1), object(1)\n",
      "memory usage: 134.1+ KB\n"
     ]
    }
   ],
   "source": [
    "#write the predicition to file\n",
    "writeResultToFile(stores_test, pred_test_LGBM, \"LGBM_01_86_precentile_allCols_someSmoothin\")\n",
    "\n",
    "# Verify format of submission file\n",
    "submissionVery = pd.read_csv('submissionFiles/LGBM_01_86_precentile_allCols_someSmoothin.csv')\n",
    "submissionVery.info()"
   ]
  },
  {
   "cell_type": "markdown",
   "metadata": {},
   "source": [
    "## _____ Random Forest Regressor _____"
   ]
  },
  {
   "cell_type": "markdown",
   "metadata": {},
   "source": [
    "Load, preprocess and convert data to correct format"
   ]
  },
  {
   "cell_type": "code",
   "execution_count": null,
   "metadata": {},
   "outputs": [],
   "source": [
    "# Load training and test data\n",
    "stores_train = pd.read_csv('data/stores_train.csv')\n",
    "stores_test = pd.read_csv('data/stores_test.csv')\n",
    "\n",
    "# Preprocess/Clean data\n",
    "remove_columns(stores_train, ['store_id','year','store_name','sales_channel_name','address','chain_name','mall_name'])\n",
    "remove_columns(stores_test, ['store_id','year','store_name','sales_channel_name','address','chain_name','mall_name'])\n",
    "#remove_retailers_with_0_revenue(stores_train)\n",
    "quantile_storeType_vs_revenue(stores_train,0.10, 0.80)\n",
    "\n",
    "# Divide data into x and y train\n",
    "x_train = stores_train.drop('revenue', axis=1)\n",
    "y_train = stores_train['revenue']\n",
    "x_test = stores_test.copy()\n",
    "\n",
    "# Convert from object type to numerical\n",
    "#train set\n",
    "cat_columns = x_train.select_dtypes(['object']).columns\n",
    "x_train[cat_columns] = x_train[cat_columns].apply(lambda x: pd.factorize(x)[0])\n",
    "#test set\n",
    "cat_columns = x_test.select_dtypes(['object']).columns\n",
    "x_test[cat_columns] = x_test[cat_columns].apply(lambda x: pd.factorize(x)[0])\n",
    "\n"
   ]
  },
  {
   "cell_type": "code",
   "execution_count": null,
   "metadata": {},
   "outputs": [],
   "source": [
    "stores_train.head()"
   ]
  },
  {
   "cell_type": "markdown",
   "metadata": {},
   "source": [
    "Train model"
   ]
  },
  {
   "cell_type": "code",
   "execution_count": null,
   "metadata": {},
   "outputs": [],
   "source": [
    "# Model\n",
    "RFR = RandomForestRegressor(n_estimators=100)\n",
    "\n",
    "# Fitting\n",
    "RFR.fit(x_train, y_train)\n"
   ]
  },
  {
   "cell_type": "markdown",
   "metadata": {},
   "source": [
    "Test RFR model"
   ]
  },
  {
   "cell_type": "code",
   "execution_count": null,
   "metadata": {},
   "outputs": [],
   "source": [
    "# predicting the training data set as a pin pointer\n",
    "pred_train_RFR = RFR.predict(x_train)\n",
    "print(rmsle(y_train, pred_train_RFR))\n",
    "print(RFR.score(x_train, y_train))"
   ]
  },
  {
   "cell_type": "markdown",
   "metadata": {},
   "source": [
    "Predict test and submit"
   ]
  },
  {
   "cell_type": "code",
   "execution_count": null,
   "metadata": {},
   "outputs": [],
   "source": [
    "pred_test_RFR = RFR.predict(x_test)"
   ]
  },
  {
   "cell_type": "code",
   "execution_count": null,
   "metadata": {},
   "outputs": [],
   "source": [
    "# Write to file\n",
    "writeResultToFile(stores_test, pred_test_RFR, \"RFR_10_80_percentile\")\n",
    "\n",
    "# Verify format of submission file\n",
    "submissionVery = pd.read_csv('submissionFiles/RFR_10_80_percentile.csv')\n",
    "submissionVery.info()"
   ]
  },
  {
   "cell_type": "markdown",
   "metadata": {},
   "source": [
    "## Emil modeller"
   ]
  },
  {
   "cell_type": "markdown",
   "metadata": {},
   "source": [
    "### model 1\n"
   ]
  },
  {
   "cell_type": "code",
   "execution_count": null,
   "metadata": {},
   "outputs": [],
   "source": [
    "# pythons stuff emil"
   ]
  },
  {
   "cell_type": "markdown",
   "metadata": {},
   "source": [
    "# 3. Feature Engineering"
   ]
  },
  {
   "cell_type": "markdown",
   "metadata": {},
   "source": [
    "### some feature moding"
   ]
  },
  {
   "cell_type": "code",
   "execution_count": null,
   "metadata": {},
   "outputs": [],
   "source": [
    "#modding data...."
   ]
  },
  {
   "cell_type": "markdown",
   "metadata": {},
   "source": [
    "# 4. Model Interpretations"
   ]
  },
  {
   "cell_type": "code",
   "execution_count": 217,
   "metadata": {},
   "outputs": [],
   "source": [
    "# fetch train  set\n",
    "stores_train = pd.read_csv('data/stores_train.csv')\n",
    "#remove_columns(stores_train, ['store_id','year','store_name','sales_channel_name','grunnkrets_id','address'])\n",
    "remove_columns(stores_train, ['store_id','year'])\n",
    "quantile_storeType_vs_revenue(stores_train,0.02, 0.86)\n",
    "x_train = stores_train.drop('revenue', axis=1)\n",
    "y_train = stores_train['revenue']\n",
    "cat_columns = x_train.select_dtypes(['object']).columns\n",
    "x_train[cat_columns] = x_train[cat_columns].apply(lambda x: pd.factorize(x)[0])"
   ]
  },
  {
   "cell_type": "code",
   "execution_count": 218,
   "metadata": {},
   "outputs": [
    {
     "name": "stdout",
     "output_type": "stream",
     "text": [
      "\n",
      "learning_rate                    : 0.02\n",
      "num_leaves                       : 85\n",
      "colsample_bytree                 : 0.7159725093210578\n",
      "subsample                        : 0.8059264473611898\n",
      "verbosity                        : -1\n",
      "random_state                     : 42\n",
      "objective                        : regression\n",
      "metric                           : l2\n",
      "num_threads                      : 6\n",
      "reg_alpha                        : 4.258943089524393e-06\n",
      "min_sum_hessian_in_leaf          : 0.003613894271216527\n",
      "reg_lambda                       : 1.9826980964985924e-05\n",
      "n_estimators                     : 252\n"
     ]
    },
    {
     "data": {
      "image/png": "[encoded data removed]",
      "text/plain": [
       "<Figure size 640x480 with 1 Axes>"
      ]
     },
     "metadata": {},
     "output_type": "display_data"
    },
    {
     "data": {
      "image/png": "[encoded data removed]",
      "text/plain": [
       "<Figure size 640x480 with 1 Axes>"
      ]
     },
     "metadata": {},
     "output_type": "display_data"
    },
    {
     "data": {
      "image/png": "[encoded data removed]",
      "text/plain": [
       "<Figure size 640x480 with 1 Axes>"
      ]
     },
     "metadata": {},
     "output_type": "display_data"
    },
    {
     "data": {
      "image/png": "[encoded data removed]",
      "text/plain": [
       "<Figure size 1000x600 with 1 Axes>"
      ]
     },
     "metadata": {},
     "output_type": "display_data"
    },
    {
     "name": "stdout",
     "output_type": "stream",
     "text": [
      "\n",
      "\n",
      "Time elapsed for fit execution: 27.6723 seconds\n"
     ]
    }
   ],
   "source": [
    "\n",
    "# Tune\n",
    "tuner = LGBMTuner(metric = 'rmsle', verbosity=0)\n",
    "tuner.fit(x_train, y_train)\n",
    "\n"
   ]
  },
  {
   "cell_type": "markdown",
   "metadata": {},
   "source": [
    "### Lime"
   ]
  },
  {
   "cell_type": "code",
   "execution_count": null,
   "metadata": {},
   "outputs": [],
   "source": [
    "#lime stuff in python"
   ]
  },
  {
   "cell_type": "markdown",
   "metadata": {},
   "source": [
    "### Feature importance"
   ]
  },
  {
   "cell_type": "code",
   "execution_count": 60,
   "metadata": {},
   "outputs": [
    {
     "data": {
      "image/png": "[encoded data removed]",
      "text/plain": [
       "<Figure size 1000x600 with 1 Axes>"
      ]
     },
     "metadata": {},
     "output_type": "display_data"
    }
   ],
   "source": [
    "#feature importance\n",
    "\n",
    "tuner.plot_importances()\n"
   ]
  },
  {
   "cell_type": "markdown",
   "metadata": {},
   "source": [
    "### PDP"
   ]
  },
  {
   "cell_type": "code",
   "execution_count": null,
   "metadata": {},
   "outputs": [],
   "source": [
    "#PDP"
   ]
  },
  {
   "cell_type": "markdown",
   "metadata": {},
   "source": [
    "# 5. Final improved models/predictions"
   ]
  },
  {
   "cell_type": "markdown",
   "metadata": {},
   "source": [
    "### model 1"
   ]
  },
  {
   "cell_type": "code",
   "execution_count": null,
   "metadata": {},
   "outputs": [],
   "source": [
    "#final model 1"
   ]
  },
  {
   "cell_type": "markdown",
   "metadata": {},
   "source": [
    "### model 2"
   ]
  },
  {
   "cell_type": "code",
   "execution_count": null,
   "metadata": {},
   "outputs": [],
   "source": [
    "#final model 2"
   ]
  },
  {
   "cell_type": "markdown",
   "metadata": {},
   "source": [
    "# Testing\n"
   ]
  },
  {
   "cell_type": "markdown",
   "metadata": {},
   "source": [
    "#### RMSLE"
   ]
  },
  {
   "cell_type": "code",
   "execution_count": null,
   "metadata": {},
   "outputs": [],
   "source": [
    "def rmsle(y_true, y_pred):\n",
    "    return metrics.mean_squared_log_error(y_true, y_pred)**0.5\n"
   ]
  },
  {
   "cell_type": "markdown",
   "metadata": {},
   "source": []
  }
 ],
 "metadata": {
  "kernelspec": {
   "display_name": "Python 3.9.12 ('MLvenv': venv)",
   "language": "python",
   "name": "python3"
  },
  "language_info": {
   "codemirror_mode": {
    "name": "ipython",
    "version": 3
   },
   "file_extension": ".py",
   "mimetype": "text/x-python",
   "name": "python",
   "nbconvert_exporter": "python",
   "pygments_lexer": "ipython3",
   "version": "3.9.12"
  },
  "orig_nbformat": 4,
  "vscode": {
   "interpreter": {
    "hash": "64f6ffda83557eb7321e159cda30de9eec3ce84177871a025b9d87d367aa2cef"
   }
  }
 },
 "nbformat": 4,
 "nbformat_minor": 2
}
