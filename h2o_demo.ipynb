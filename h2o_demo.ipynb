{
 "cells": [
  {
   "cell_type": "markdown",
   "metadata": {
    "pycharm": {
     "name": "#%% md\n"
    }
   },
   "source": [
    "# This is a student solution in TDT05 2020\n",
    "## The notebook is read-only because the data files are not available"
   ]
  },
  {
   "cell_type": "code",
   "execution_count": 1,
   "metadata": {},
   "outputs": [
    {
     "name": "stdout",
     "output_type": "stream",
     "text": [
      "Checking whether there is an H2O instance running at http://localhost:54321 . connected.\n",
      "Warning: Your H2O cluster version is too old (4 months and 24 days)! Please download and install the latest version from http://h2o.ai/download/\n"
     ]
    },
    {
     "data": {
      "text/html": [
       "<div style=\"overflow:auto\"><table style=\"width:50%\"><tr><td>H2O_cluster_uptime:</td>\n",
       "<td>4 hours 32 mins</td></tr>\n",
       "<tr><td>H2O_cluster_timezone:</td>\n",
       "<td>Europe/Berlin</td></tr>\n",
       "<tr><td>H2O_data_parsing_timezone:</td>\n",
       "<td>UTC</td></tr>\n",
       "<tr><td>H2O_cluster_version:</td>\n",
       "<td>3.30.0.4</td></tr>\n",
       "<tr><td>H2O_cluster_version_age:</td>\n",
       "<td>4 months and 24 days !!!</td></tr>\n",
       "<tr><td>H2O_cluster_name:</td>\n",
       "<td>H2O_from_python_August_w4mpyx</td></tr>\n",
       "<tr><td>H2O_cluster_total_nodes:</td>\n",
       "<td>1</td></tr>\n",
       "<tr><td>H2O_cluster_free_memory:</td>\n",
       "<td>3.482 Gb</td></tr>\n",
       "<tr><td>H2O_cluster_total_cores:</td>\n",
       "<td>4</td></tr>\n",
       "<tr><td>H2O_cluster_allowed_cores:</td>\n",
       "<td>4</td></tr>\n",
       "<tr><td>H2O_cluster_status:</td>\n",
       "<td>locked, healthy</td></tr>\n",
       "<tr><td>H2O_connection_url:</td>\n",
       "<td>http://localhost:54321</td></tr>\n",
       "<tr><td>H2O_connection_proxy:</td>\n",
       "<td>{\"http\": null, \"https\": null}</td></tr>\n",
       "<tr><td>H2O_internal_security:</td>\n",
       "<td>False</td></tr>\n",
       "<tr><td>H2O_API_Extensions:</td>\n",
       "<td>Amazon S3, Algos, AutoML, Core V3, TargetEncoder, Core V4</td></tr>\n",
       "<tr><td>Python_version:</td>\n",
       "<td>3.7.8 final</td></tr></table></div>"
      ],
      "text/plain": [
       "--------------------------  ---------------------------------------------------------\n",
       "H2O_cluster_uptime:         4 hours 32 mins\n",
       "H2O_cluster_timezone:       Europe/Berlin\n",
       "H2O_data_parsing_timezone:  UTC\n",
       "H2O_cluster_version:        3.30.0.4\n",
       "H2O_cluster_version_age:    4 months and 24 days !!!\n",
       "H2O_cluster_name:           H2O_from_python_August_w4mpyx\n",
       "H2O_cluster_total_nodes:    1\n",
       "H2O_cluster_free_memory:    3.482 Gb\n",
       "H2O_cluster_total_cores:    4\n",
       "H2O_cluster_allowed_cores:  4\n",
       "H2O_cluster_status:         locked, healthy\n",
       "H2O_connection_url:         http://localhost:54321\n",
       "H2O_connection_proxy:       {\"http\": null, \"https\": null}\n",
       "H2O_internal_security:      False\n",
       "H2O_API_Extensions:         Amazon S3, Algos, AutoML, Core V3, TargetEncoder, Core V4\n",
       "Python_version:             3.7.8 final\n",
       "--------------------------  ---------------------------------------------------------"
      ]
     },
     "metadata": {},
     "output_type": "display_data"
    }
   ],
   "source": [
    "# Import and init h2o lib. Running on java\n",
    "import h2o\n",
    "from h2o.automl import H2OAutoML\n",
    "h2o.init()"
   ]
  },
  {
   "cell_type": "code",
   "execution_count": 2,
   "metadata": {},
   "outputs": [
    {
     "name": "stdout",
     "output_type": "stream",
     "text": [
      "Parse progress: |█████████████████████████████████████████████████████████| 100%\n",
      "Parse progress: |█████████████████████████████████████████████████████████| 100%\n"
     ]
    }
   ],
   "source": [
    "# Reading csv to h2o dataframe file\n",
    "df = h2o.import_file('challenge1/challenge1_train.csv')\n",
    "df_test = h2o.import_file('challenge1/challenge1_test.csv')"
   ]
  },
  {
   "cell_type": "code",
   "execution_count": 3,
   "metadata": {},
   "outputs": [],
   "source": [
    "# Setting features as factor\n",
    "df['target'] = df['target'].asfactor()\n",
    "df['f0'] = df['f0'].asfactor()\n",
    "df['f7'] = df['f7'].asfactor()\n",
    "df['f14'] = df['f14'].asfactor()\n",
    "df['f15'] = df['f15'].asfactor()\n",
    "df['f23'] = df['f23'].asfactor()\n",
    "df['f24'] = df['f24'].asfactor()"
   ]
  },
  {
   "cell_type": "code",
   "execution_count": 4,
   "metadata": {},
   "outputs": [],
   "source": [
    "df_test['f0'] = df_test['f0'].asfactor()\n",
    "df_test['f7'] = df_test['f7'].asfactor()\n",
    "df_test['f14'] = df_test['f14'].asfactor()\n",
    "df_test['f15'] = df_test['f15'].asfactor()\n",
    "df_test['f23'] = df_test['f23'].asfactor()\n",
    "df_test['f24'] = df_test['f24'].asfactor()"
   ]
  },
  {
   "cell_type": "code",
   "execution_count": 5,
   "metadata": {},
   "outputs": [],
   "source": [
    "# Removing labels from train set\n",
    "y = \"target\"\n",
    "x = df.columns\n",
    "x.remove(y)"
   ]
  },
  {
   "cell_type": "code",
   "execution_count": 8,
   "metadata": {},
   "outputs": [
    {
     "name": "stdout",
     "output_type": "stream",
     "text": [
      "AutoML progress: |█\n",
      "23:07:11.885: AutoML: XGBoost is not available; skipping it.\n",
      "\n",
      "███████████████████████████████████████████████████████| 100%\n"
     ]
    }
   ],
   "source": [
    "# Running fit/training on train set with cross validation n=5\n",
    "aml = H2OAutoML(max_models = 10, seed = 1)\n",
    "aml.train(x = x, y = y, training_frame = df)"
   ]
  },
  {
   "cell_type": "code",
   "execution_count": 9,
   "metadata": {},
   "outputs": [],
   "source": [
    "lb = aml.leaderboard"
   ]
  },
  {
   "cell_type": "code",
   "execution_count": 10,
   "metadata": {},
   "outputs": [
    {
     "data": {
      "text/html": [
       "<table>\n",
       "<thead>\n",
       "<tr><th>model_id                                           </th><th style=\"text-align: right;\">     auc</th><th style=\"text-align: right;\">  logloss</th><th style=\"text-align: right;\">   aucpr</th><th style=\"text-align: right;\">  mean_per_class_error</th><th style=\"text-align: right;\">    rmse</th><th style=\"text-align: right;\">     mse</th></tr>\n",
       "</thead>\n",
       "<tbody>\n",
       "<tr><td>StackedEnsemble_AllModels_AutoML_20201025_230711   </td><td style=\"text-align: right;\">0.755083</td><td style=\"text-align: right;\"> 0.417125</td><td style=\"text-align: right;\">0.412159</td><td style=\"text-align: right;\">              0.314115</td><td style=\"text-align: right;\">0.361976</td><td style=\"text-align: right;\">0.131027</td></tr>\n",
       "<tr><td>StackedEnsemble_BestOfFamily_AutoML_20201025_230711</td><td style=\"text-align: right;\">0.754894</td><td style=\"text-align: right;\"> 0.417066</td><td style=\"text-align: right;\">0.412444</td><td style=\"text-align: right;\">              0.318675</td><td style=\"text-align: right;\">0.361932</td><td style=\"text-align: right;\">0.130995</td></tr>\n",
       "<tr><td>GLM_1_AutoML_20201025_230711                       </td><td style=\"text-align: right;\">0.7525  </td><td style=\"text-align: right;\"> 0.41363 </td><td style=\"text-align: right;\">0.406822</td><td style=\"text-align: right;\">              0.317933</td><td style=\"text-align: right;\">0.36127 </td><td style=\"text-align: right;\">0.130516</td></tr>\n",
       "<tr><td>DeepLearning_1_AutoML_20201025_230711              </td><td style=\"text-align: right;\">0.742677</td><td style=\"text-align: right;\"> 0.428345</td><td style=\"text-align: right;\">0.393591</td><td style=\"text-align: right;\">              0.325354</td><td style=\"text-align: right;\">0.365876</td><td style=\"text-align: right;\">0.133866</td></tr>\n",
       "<tr><td>GBM_grid__1_AutoML_20201025_230711_model_1         </td><td style=\"text-align: right;\">0.716931</td><td style=\"text-align: right;\"> 0.431363</td><td style=\"text-align: right;\">0.362164</td><td style=\"text-align: right;\">              0.34732 </td><td style=\"text-align: right;\">0.368647</td><td style=\"text-align: right;\">0.135901</td></tr>\n",
       "<tr><td>GBM_1_AutoML_20201025_230711                       </td><td style=\"text-align: right;\">0.702317</td><td style=\"text-align: right;\"> 0.440779</td><td style=\"text-align: right;\">0.342091</td><td style=\"text-align: right;\">              0.351358</td><td style=\"text-align: right;\">0.372508</td><td style=\"text-align: right;\">0.138762</td></tr>\n",
       "<tr><td>DRF_1_AutoML_20201025_230711                       </td><td style=\"text-align: right;\">0.701817</td><td style=\"text-align: right;\"> 0.458704</td><td style=\"text-align: right;\">0.350969</td><td style=\"text-align: right;\">              0.352793</td><td style=\"text-align: right;\">0.37138 </td><td style=\"text-align: right;\">0.137923</td></tr>\n",
       "<tr><td>GBM_2_AutoML_20201025_230711                       </td><td style=\"text-align: right;\">0.696956</td><td style=\"text-align: right;\"> 0.448145</td><td style=\"text-align: right;\">0.337021</td><td style=\"text-align: right;\">              0.354702</td><td style=\"text-align: right;\">0.37453 </td><td style=\"text-align: right;\">0.140273</td></tr>\n",
       "<tr><td>GBM_5_AutoML_20201025_230711                       </td><td style=\"text-align: right;\">0.69625 </td><td style=\"text-align: right;\"> 0.449674</td><td style=\"text-align: right;\">0.331803</td><td style=\"text-align: right;\">              0.357253</td><td style=\"text-align: right;\">0.375207</td><td style=\"text-align: right;\">0.140781</td></tr>\n",
       "<tr><td>GBM_3_AutoML_20201025_230711                       </td><td style=\"text-align: right;\">0.680281</td><td style=\"text-align: right;\"> 0.461071</td><td style=\"text-align: right;\">0.317975</td><td style=\"text-align: right;\">              0.370153</td><td style=\"text-align: right;\">0.378718</td><td style=\"text-align: right;\">0.143427</td></tr>\n",
       "</tbody>\n",
       "</table>"
      ]
     },
     "metadata": {},
     "output_type": "display_data"
    },
    {
     "data": {
      "text/plain": []
     },
     "execution_count": 10,
     "metadata": {},
     "output_type": "execute_result"
    }
   ],
   "source": [
    "# Showing best perforimg models\n",
    "lb.head()"
   ]
  },
  {
   "cell_type": "code",
   "execution_count": 11,
   "metadata": {},
   "outputs": [
    {
     "name": "stdout",
     "output_type": "stream",
     "text": [
      "stackedensemble prediction progress: |████████████████████████████████████| 100%\n"
     ]
    },
    {
     "name": "stderr",
     "output_type": "stream",
     "text": [
      "C:\\Users\\August\\miniconda3\\envs\\tdt\\lib\\site-packages\\h2o\\job.py:70: UserWarning: Test/Validation dataset column 'f0' has levels not trained on: [093847102, 09711b98e, 22593f64f, 32c996bd6, 34d9d24e8, 3ac2f6841, 4223d2413, 430e368b9, 47ea47b5f, 4c41d0578, 4c6c07450, 4fba0e75d, 5fb04046c, 6eb9e65ac, 776a4c824, 819762325, 865e514e1, 8d63a0073, a027a14b7, ae2e616f7, b248935a4, b858f6e9f, bda6e6da8, c941ec901, d6017b5e1, d61dbecb0, da647c979, f8f27c1c9]\n",
      "  warnings.warn(w)\n",
      "C:\\Users\\August\\miniconda3\\envs\\tdt\\lib\\site-packages\\h2o\\job.py:70: UserWarning: Test/Validation dataset column 'f7' has levels not trained on: [7331b57f0, 7b1a1b48c, ba3ec5b4e, c13fd5d6e]\n",
      "  warnings.warn(w)\n",
      "C:\\Users\\August\\miniconda3\\envs\\tdt\\lib\\site-packages\\h2o\\job.py:70: UserWarning: Test/Validation dataset column 'f15' has levels not trained on: [0850be70d, 11ac76902, 14923619e, 214e6cc1a, 322548bed, 575224ff7, 5ba9a2322, 8a849b495, 96c5df3d0, 99f4e90fe, a93b49b8c, cd3f65d3e, d80c01ec8, e87b51a1c, ee6983c6d]\n",
      "  warnings.warn(w)\n"
     ]
    }
   ],
   "source": [
    "preds = aml.predict(df_test)"
   ]
  },
  {
   "cell_type": "code",
   "execution_count": 14,
   "metadata": {},
   "outputs": [],
   "source": [
    "preds = h2o.as_list(preds)"
   ]
  },
  {
   "cell_type": "code",
   "execution_count": 16,
   "metadata": {
    "pycharm": {
     "is_executing": true,
     "name": "#%%\n"
    }
   },
   "outputs": [],
   "source": [
    "# Convert result to desired format\n",
    "\n",
    "import pandas as pd\n",
    "predictions = preds\n",
    "\n",
    "predictions[\"sample_id\"] = predictions.index + 50000\n",
    "predictions[\"prediction_in_probability\"] = predictions[\"p1\"]\n",
    "predictions[[\"sample_id\", \"prediction_in_probability\"]].to_csv(\"predictions.txt\", index=False)"
   ]
  },
  {
   "cell_type": "code",
   "execution_count": null,
   "metadata": {},
   "outputs": [],
   "source": []
  }
 ],
 "metadata": {
  "kernelspec": {
   "display_name": "Python 3",
   "language": "python",
   "name": "python3"
  },
  "language_info": {
   "codemirror_mode": {
    "name": "ipython",
    "version": 3
   },
   "file_extension": ".py",
   "mimetype": "text/x-python",
   "name": "python",
   "nbconvert_exporter": "python",
   "pygments_lexer": "ipython3",
   "version": "3.8.11"
  },
  "pycharm": {
   "stem_cell": {
    "cell_type": "raw",
    "metadata": {
     "collapsed": false
    },
    "source": []
   }
  },
  "toc": {
   "base_numbering": 1,
   "nav_menu": {},
   "number_sections": true,
   "sideBar": true,
   "skip_h1_title": false,
   "title_cell": "Table of Contents",
   "title_sidebar": "Contents",
   "toc_cell": false,
   "toc_position": {},
   "toc_section_display": true,
   "toc_window_display": false
  },
  "varInspector": {
   "cols": {
    "lenName": 16,
    "lenType": 16,
    "lenVar": 40
   },
   "kernels_config": {
    "python": {
     "delete_cmd_postfix": "",
     "delete_cmd_prefix": "del ",
     "library": "var_list.py",
     "varRefreshCmd": "print(var_dic_list())"
    },
    "r": {
     "delete_cmd_postfix": ") ",
     "delete_cmd_prefix": "rm(",
     "library": "var_list.r",
     "varRefreshCmd": "cat(var_dic_list()) "
    }
   },
   "types_to_exclude": [
    "module",
    "function",
    "builtin_function_or_method",
    "instance",
    "_Feature"
   ],
   "window_display": false
  }
 },
 "nbformat": 4,
 "nbformat_minor": 4
}
